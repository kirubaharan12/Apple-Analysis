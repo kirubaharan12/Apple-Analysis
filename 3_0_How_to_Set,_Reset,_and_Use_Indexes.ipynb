{
  "cells": [
    {
      "cell_type": "markdown",
      "metadata": {
        "id": "view-in-github",
        "colab_type": "text"
      },
      "source": [
        "<a href=\"https://colab.research.google.com/github/kirubaharan12/Apple-Analysis/blob/main/3_0_How_to_Set%2C_Reset%2C_and_Use_Indexes.ipynb\" target=\"_parent\"><img src=\"https://colab.research.google.com/assets/colab-badge.svg\" alt=\"Open In Colab\"/></a>"
      ]
    },
    {
      "cell_type": "code",
      "execution_count": null,
      "metadata": {
        "id": "Qiy_t1Y_eV6P"
      },
      "outputs": [],
      "source": [
        "people = {\n",
        "    \"first\": [\"Corey\", 'Jane', 'John'],\n",
        "    \"last\": [\"Schafer\", 'Doe', 'Doe'],\n",
        "    \"email\": [\"CoreyMSchafer@gmail.com\", 'JaneDoe@email.com', 'JohnDoe@email.com']\n",
        "}"
      ]
    },
    {
      "cell_type": "code",
      "execution_count": null,
      "metadata": {
        "id": "CIKADiu0eV6d"
      },
      "outputs": [],
      "source": [
        "import pandas as pd"
      ]
    },
    {
      "cell_type": "code",
      "execution_count": null,
      "metadata": {
        "id": "iTFfdhhKeV6g"
      },
      "outputs": [],
      "source": [
        "df = pd.DataFrame(people)"
      ]
    },
    {
      "cell_type": "code",
      "execution_count": null,
      "metadata": {
        "id": "X6l4JuFIeV6i",
        "outputId": "a01e8c69-df6a-4399-9f80-d86510c75862"
      },
      "outputs": [
        {
          "data": {
            "text/html": [
              "<div>\n",
              "<style scoped>\n",
              "    .dataframe tbody tr th:only-of-type {\n",
              "        vertical-align: middle;\n",
              "    }\n",
              "\n",
              "    .dataframe tbody tr th {\n",
              "        vertical-align: top;\n",
              "    }\n",
              "\n",
              "    .dataframe thead th {\n",
              "        text-align: right;\n",
              "    }\n",
              "</style>\n",
              "<table border=\"1\" class=\"dataframe\">\n",
              "  <thead>\n",
              "    <tr style=\"text-align: right;\">\n",
              "      <th></th>\n",
              "      <th>first</th>\n",
              "      <th>last</th>\n",
              "      <th>email</th>\n",
              "    </tr>\n",
              "  </thead>\n",
              "  <tbody>\n",
              "    <tr>\n",
              "      <th>0</th>\n",
              "      <td>Corey</td>\n",
              "      <td>Schafer</td>\n",
              "      <td>CoreyMSchafer@gmail.com</td>\n",
              "    </tr>\n",
              "    <tr>\n",
              "      <th>1</th>\n",
              "      <td>Jane</td>\n",
              "      <td>Doe</td>\n",
              "      <td>JaneDoe@email.com</td>\n",
              "    </tr>\n",
              "    <tr>\n",
              "      <th>2</th>\n",
              "      <td>John</td>\n",
              "      <td>Doe</td>\n",
              "      <td>JohnDoe@email.com</td>\n",
              "    </tr>\n",
              "  </tbody>\n",
              "</table>\n",
              "</div>"
            ],
            "text/plain": [
              "   first     last                    email\n",
              "0  Corey  Schafer  CoreyMSchafer@gmail.com\n",
              "1   Jane      Doe        JaneDoe@email.com\n",
              "2   John      Doe        JohnDoe@email.com"
            ]
          },
          "execution_count": 4,
          "metadata": {},
          "output_type": "execute_result"
        }
      ],
      "source": [
        "df"
      ]
    },
    {
      "cell_type": "code",
      "execution_count": null,
      "metadata": {
        "id": "X-shirR4eV6n",
        "outputId": "38bef52d-a5cd-4469-d16c-108f890210c7"
      },
      "outputs": [
        {
          "data": {
            "text/plain": [
              "0    CoreyMSchafer@gmail.com\n",
              "1          JaneDoe@email.com\n",
              "2          JohnDoe@email.com\n",
              "Name: email, dtype: object"
            ]
          },
          "execution_count": 5,
          "metadata": {},
          "output_type": "execute_result"
        }
      ],
      "source": [
        "df['email']"
      ]
    },
    {
      "cell_type": "code",
      "execution_count": null,
      "metadata": {
        "id": "6osOby1YeV6q"
      },
      "outputs": [],
      "source": [
        "df.set_index('email', inplace=True)\n",
        "\"\"\"we are converting the email as index.in pandas that index will not affect the original dataframe untill we use rthe inplace word\n",
        "if we use the inplace as the TRUE it will set the iondex in original dataframe\"\"\""
      ]
    },
    {
      "cell_type": "code",
      "execution_count": null,
      "metadata": {
        "id": "WXt4umtseV6y",
        "outputId": "8bc49e69-9ce6-4d0a-96ee-7ea7f6517f84"
      },
      "outputs": [
        {
          "data": {
            "text/html": [
              "<div>\n",
              "<style scoped>\n",
              "    .dataframe tbody tr th:only-of-type {\n",
              "        vertical-align: middle;\n",
              "    }\n",
              "\n",
              "    .dataframe tbody tr th {\n",
              "        vertical-align: top;\n",
              "    }\n",
              "\n",
              "    .dataframe thead th {\n",
              "        text-align: right;\n",
              "    }\n",
              "</style>\n",
              "<table border=\"1\" class=\"dataframe\">\n",
              "  <thead>\n",
              "    <tr style=\"text-align: right;\">\n",
              "      <th></th>\n",
              "      <th>first</th>\n",
              "      <th>last</th>\n",
              "    </tr>\n",
              "    <tr>\n",
              "      <th>email</th>\n",
              "      <th></th>\n",
              "      <th></th>\n",
              "    </tr>\n",
              "  </thead>\n",
              "  <tbody>\n",
              "    <tr>\n",
              "      <th>CoreyMSchafer@gmail.com</th>\n",
              "      <td>Corey</td>\n",
              "      <td>Schafer</td>\n",
              "    </tr>\n",
              "    <tr>\n",
              "      <th>JaneDoe@email.com</th>\n",
              "      <td>Jane</td>\n",
              "      <td>Doe</td>\n",
              "    </tr>\n",
              "    <tr>\n",
              "      <th>JohnDoe@email.com</th>\n",
              "      <td>John</td>\n",
              "      <td>Doe</td>\n",
              "    </tr>\n",
              "  </tbody>\n",
              "</table>\n",
              "</div>"
            ],
            "text/plain": [
              "                         first     last\n",
              "email                                  \n",
              "CoreyMSchafer@gmail.com  Corey  Schafer\n",
              "JaneDoe@email.com         Jane      Doe\n",
              "JohnDoe@email.com         John      Doe"
            ]
          },
          "execution_count": 9,
          "metadata": {},
          "output_type": "execute_result"
        }
      ],
      "source": [
        "df"
      ]
    },
    {
      "cell_type": "code",
      "execution_count": null,
      "metadata": {
        "id": "CPqCdDwieV61",
        "outputId": "10237e24-8f02-4bb6-ef91-c6e3f70ec437"
      },
      "outputs": [
        {
          "data": {
            "text/plain": [
              "Index(['CoreyMSchafer@gmail.com', 'JaneDoe@email.com', 'JohnDoe@email.com'], dtype='object', name='email')"
            ]
          },
          "execution_count": 10,
          "metadata": {},
          "output_type": "execute_result"
        }
      ],
      "source": [
        "df.index"
      ]
    },
    {
      "cell_type": "code",
      "execution_count": null,
      "metadata": {
        "id": "gQFXCqgBeV64",
        "outputId": "103a7962-a51f-41a9-f3b4-95bbc4f3d407"
      },
      "outputs": [
        {
          "data": {
            "text/plain": [
              "'Schafer'"
            ]
          },
          "execution_count": 12,
          "metadata": {},
          "output_type": "execute_result"
        }
      ],
      "source": [
        "df.loc['CoreyMSchafer@gmail.com', 'last']\n",
        "\"\"\"we converted the email as the index so we acces it with the email by loc - In this code we access the email index's row and last name column\"\"\""
      ]
    },
    {
      "cell_type": "code",
      "execution_count": null,
      "metadata": {
        "id": "ZWip9SMdeV67",
        "outputId": "0435c6a3-98a2-4ca8-f6fb-45cbc16ae198"
      },
      "outputs": [
        {
          "data": {
            "text/plain": [
              "first      Corey\n",
              "last     Schafer\n",
              "Name: CoreyMSchafer@gmail.com, dtype: object"
            ]
          },
          "execution_count": 14,
          "metadata": {},
          "output_type": "execute_result"
        }
      ],
      "source": [
        "df.iloc[0]"
      ]
    },
    {
      "cell_type": "code",
      "execution_count": null,
      "metadata": {
        "colab": {
          "base_uri": "https://localhost:8080/",
          "height": 158
        },
        "id": "q8ju0beseV7B",
        "outputId": "71e13a53-3dfc-4219-cc3b-60dcd153a353"
      },
      "outputs": [
        {
          "output_type": "error",
          "ename": "NameError",
          "evalue": "name 'df' is not defined",
          "traceback": [
            "\u001b[0;31m---------------------------------------------------------------------------\u001b[0m",
            "\u001b[0;31mNameError\u001b[0m                                 Traceback (most recent call last)",
            "\u001b[0;32m<ipython-input-1-ebc7da513a90>\u001b[0m in \u001b[0;36m<cell line: 1>\u001b[0;34m()\u001b[0m\n\u001b[0;32m----> 1\u001b[0;31m \u001b[0mdf\u001b[0m\u001b[0;34m.\u001b[0m\u001b[0mreset_index\u001b[0m\u001b[0;34m(\u001b[0m\u001b[0minplace\u001b[0m\u001b[0;34m=\u001b[0m\u001b[0;32mTrue\u001b[0m\u001b[0;34m)\u001b[0m\u001b[0;34m\u001b[0m\u001b[0;34m\u001b[0m\u001b[0m\n\u001b[0m\u001b[1;32m      2\u001b[0m \u001b[0mdf\u001b[0m\u001b[0;34m\u001b[0m\u001b[0;34m\u001b[0m\u001b[0m\n",
            "\u001b[0;31mNameError\u001b[0m: name 'df' is not defined"
          ]
        }
      ],
      "source": [
        "df.reset_index(inplace=True)\n",
        "\"\"\"we reseted the index to normal form so the index will become integer\"\"\"\n",
        "df"
      ]
    },
    {
      "cell_type": "code",
      "execution_count": null,
      "metadata": {
        "id": "-AxW6W4TeV7D"
      },
      "outputs": [],
      "source": []
    }
  ],
  "metadata": {
    "kernelspec": {
      "display_name": "Python 3",
      "language": "python",
      "name": "python3"
    },
    "language_info": {
      "codemirror_mode": {
        "name": "ipython",
        "version": 3
      },
      "file_extension": ".py",
      "mimetype": "text/x-python",
      "name": "python",
      "nbconvert_exporter": "python",
      "pygments_lexer": "ipython3",
      "version": "3.7.4"
    },
    "colab": {
      "provenance": [],
      "include_colab_link": true
    }
  },
  "nbformat": 4,
  "nbformat_minor": 0
}